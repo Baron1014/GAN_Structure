{
 "cells": [
  {
   "cell_type": "markdown",
   "id": "011e497d-e38e-4eb7-bac1-1c6789b6c88f",
   "metadata": {},
   "source": [
    "# GAN demo code"
   ]
  },
  {
   "cell_type": "markdown",
   "id": "201e3da8-b2f1-4ff3-98fd-56ad4966a0d5",
   "metadata": {},
   "source": [
    "Import Discriminator Model and  Generative Model from the GAN model I designed."
   ]
  },
  {
   "cell_type": "code",
   "execution_count": 1,
   "id": "5fa3d603-0495-4194-a6e2-3b05bbeb7e36",
   "metadata": {
    "execution": {
     "iopub.execute_input": "2022-01-17T09:21:03.918780Z",
     "iopub.status.busy": "2022-01-17T09:21:03.912776Z",
     "iopub.status.idle": "2022-01-17T09:21:03.930791Z",
     "shell.execute_reply": "2022-01-17T09:21:03.930791Z",
     "shell.execute_reply.started": "2022-01-17T09:21:03.917775Z"
    },
    "tags": []
   },
   "outputs": [],
   "source": [
    "from gan_model import Discriminator, Generative\n",
    "from torchsummary import summary"
   ]
  },
  {
   "cell_type": "markdown",
   "id": "d6d290c5-a4ef-4ebe-a0fe-3ef2aa73edd8",
   "metadata": {},
   "source": [
    "Randomly set a picture."
   ]
  },
  {
   "cell_type": "code",
   "execution_count": 4,
   "id": "a554f942-d99a-4688-93c2-b7311c4e091c",
   "metadata": {},
   "outputs": [],
   "source": [
    "img = (172, 256, 256)"
   ]
  },
  {
   "cell_type": "markdown",
   "id": "8f83c4e0-c014-4e4b-8286-fd354825cf05",
   "metadata": {},
   "source": [
    "## 1. Discriminative Network"
   ]
  },
  {
   "cell_type": "code",
   "execution_count": 5,
   "id": "b92a7969-892a-45d9-84da-ba5fb2291d98",
   "metadata": {},
   "outputs": [
    {
     "name": "stdout",
     "output_type": "stream",
     "text": [
      "----------------------------------------------------------------\n",
      "        Layer (type)               Output Shape         Param #\n",
      "================================================================\n",
      "            Conv2d-1        [-1, 256, 253, 253]         704,768\n",
      "         LeakyReLU-2        [-1, 256, 253, 253]               0\n",
      "            Conv2d-3        [-1, 256, 250, 250]       1,048,832\n",
      "         LeakyReLU-4        [-1, 256, 250, 250]               0\n",
      "            Conv2d-5        [-1, 256, 247, 247]       1,048,832\n",
      "         LeakyReLU-6        [-1, 256, 247, 247]               0\n",
      "            Conv2d-7        [-1, 512, 244, 244]       2,097,664\n",
      "         LeakyReLU-8        [-1, 512, 244, 244]               0\n",
      "            Conv2d-9          [-1, 1, 241, 241]           8,193\n",
      "        LeakyReLU-10          [-1, 1, 241, 241]               0\n",
      "           Conv2d-11          [-1, 1, 236, 236]              37\n",
      "          Sigmoid-12          [-1, 1, 236, 236]               0\n",
      "================================================================\n",
      "Total params: 4,908,326\n",
      "Trainable params: 4,908,326\n",
      "Non-trainable params: 0\n",
      "----------------------------------------------------------------\n",
      "Input size (MB): 43.00\n",
      "Forward/backward pass size (MB): 1199.35\n",
      "Params size (MB): 18.72\n",
      "Estimated Total Size (MB): 1261.08\n",
      "----------------------------------------------------------------\n"
     ]
    }
   ],
   "source": [
    "d_model = Discriminator()\n",
    "summary(d_model, img)"
   ]
  },
  {
   "cell_type": "markdown",
   "id": "5597b0f6-5e61-4b5a-a32b-64436d4ad731",
   "metadata": {},
   "source": [
    "## 2. Generative Network"
   ]
  },
  {
   "cell_type": "code",
   "execution_count": 6,
   "id": "d179c776-574e-464d-b688-aa9adfa21dfd",
   "metadata": {},
   "outputs": [
    {
     "name": "stdout",
     "output_type": "stream",
     "text": [
      "----------------------------------------------------------------\n",
      "        Layer (type)               Output Shape         Param #\n",
      "================================================================\n",
      "            Conv2d-1        [-1, 172, 250, 250]       1,449,788\n",
      "         LeakyReLU-2        [-1, 172, 250, 250]               0\n",
      "            Conv2d-3        [-1, 256, 247, 247]         704,768\n",
      "         LeakyReLU-4        [-1, 256, 247, 247]               0\n",
      "            Conv2d-5        [-1, 512, 244, 244]       2,097,664\n",
      "         LeakyReLU-6        [-1, 512, 244, 244]               0\n",
      "            Conv2d-7        [-1, 512, 244, 244]       2,359,808\n",
      "         LeakyReLU-8        [-1, 512, 244, 244]               0\n",
      "            Conv2d-9        [-1, 512, 244, 244]       2,359,808\n",
      "        LeakyReLU-10        [-1, 512, 244, 244]               0\n",
      "           Conv2d-11        [-1, 512, 244, 244]       2,359,808\n",
      "        LeakyReLU-12        [-1, 512, 244, 244]               0\n",
      "           Conv2d-13        [-1, 512, 244, 244]       2,359,808\n",
      "        LeakyReLU-14        [-1, 512, 244, 244]               0\n",
      "           Conv2d-15        [-1, 512, 244, 244]       2,359,808\n",
      "        LeakyReLU-16        [-1, 512, 244, 244]               0\n",
      "           Conv2d-17        [-1, 512, 244, 244]       2,359,808\n",
      "        LeakyReLU-18        [-1, 512, 244, 244]               0\n",
      "           Conv2d-19        [-1, 512, 244, 244]       2,359,808\n",
      "        LeakyReLU-20        [-1, 512, 244, 244]               0\n",
      "           Conv2d-21        [-1, 512, 244, 244]       2,359,808\n",
      "        LeakyReLU-22        [-1, 512, 244, 244]               0\n",
      "  ConvTranspose2d-23        [-1, 256, 247, 247]       2,097,408\n",
      "        LeakyReLU-24        [-1, 256, 247, 247]               0\n",
      "  ConvTranspose2d-25        [-1, 256, 250, 250]       1,048,832\n",
      "        LeakyReLU-26        [-1, 256, 250, 250]               0\n",
      "           Conv2d-27        [-1, 172, 244, 244]       2,157,740\n",
      "        LeakyReLU-28        [-1, 172, 244, 244]               0\n",
      "================================================================\n",
      "Total params: 28,434,664\n",
      "Trainable params: 28,434,664\n",
      "Non-trainable params: 0\n",
      "----------------------------------------------------------------\n",
      "Input size (MB): 43.00\n",
      "Forward/backward pass size (MB): 5227.18\n",
      "Params size (MB): 108.47\n",
      "Estimated Total Size (MB): 5378.65\n",
      "----------------------------------------------------------------\n"
     ]
    }
   ],
   "source": [
    "g_model = Generative()\n",
    "summary(g_model, img)"
   ]
  }
 ],
 "metadata": {
  "kernelspec": {
   "display_name": "Python 3 (ipykernel)",
   "language": "python",
   "name": "python3"
  },
  "language_info": {
   "codemirror_mode": {
    "name": "ipython",
    "version": 3
   },
   "file_extension": ".py",
   "mimetype": "text/x-python",
   "name": "python",
   "nbconvert_exporter": "python",
   "pygments_lexer": "ipython3",
   "version": "3.9.7"
  }
 },
 "nbformat": 4,
 "nbformat_minor": 5
}
